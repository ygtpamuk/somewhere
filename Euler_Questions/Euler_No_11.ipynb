{
 "cells": [
  {
   "cell_type": "markdown",
   "metadata": {},
   "source": [
    "In the 20×20 grid below, four numbers along a diagonal line have been marked in red.\n",
    "\n",
    "08 02 22 97 38 15 00 40 00 75 04 05 07 78 52 12 50 77 91 08<br>\n",
    "49 49 99 40 17 81 18 57 60 87 17 40 98 43 69 48 04 56 62 00<br>\n",
    "81 49 31 73 55 79 14 29 93 71 40 67 53 88 30 03 49 13 36 65<br>\n",
    "52 70 95 23 04 60 11 42 69 24 68 56 01 32 56 71 37 02 36 91<br>\n",
    "22 31 16 71 51 67 63 89 41 92 36 54 22 40 40 28 66 33 13 80<br>\n",
    "24 47 32 60 99 03 45 02 44 75 33 53 78 36 84 20 35 17 12 50<br>\n",
    "32 98 81 28 64 23 67 10 <font color='red'>26</font> 38 40 67 59 54 70 66 18 38 64 70<br>\n",
    "67 26 20 68 02 62 12 20 95 <font color='red'>63</font> 94 39 63 08 40 91 66 49 94 21<br>\n",
    "24 55 58 05 66 73 99 26 97 17 <font color='red'>78</font> 78 96 83 14 88 34 89 63 72<br>\n",
    "21 36 23 09 75 00 76 44 20 45 35 <font color='red'>14</font> 00 61 33 97 34 31 33 95<br>\n",
    "78 17 53 28 22 75 31 67 15 94 03 80 04 62 16 14 09 53 56 92<br>\n",
    "16 39 05 42 96 35 31 47 55 58 88 24 00 17 54 24 36 29 85 57<br>\n",
    "86 56 00 48 35 71 89 07 05 44 44 37 44 60 21 58 51 54 17 58<br>\n",
    "19 80 81 68 05 94 47 69 28 73 92 13 86 52 17 77 04 89 55 40<br>\n",
    "04 52 08 83 97 35 99 16 07 97 57 32 16 26 26 79 33 27 98 66<br>\n",
    "88 36 68 87 57 62 20 72 03 46 33 67 46 55 12 32 63 93 53 69<br>\n",
    "04 42 16 73 38 25 39 11 24 94 72 18 08 46 29 32 40 62 76 36<br>\n",
    "20 69 36 41 72 30 23 88 34 62 99 69 82 67 59 85 74 04 36 16<br>\n",
    "20 73 35 29 78 31 90 01 74 31 49 71 48 86 81 16 23 57 05 54<br>\n",
    "01 70 54 71 83 51 54 69 16 92 33 48 61 43 52 01 89 19 67 48<br>\n",
    "\n",
    "The product of these numbers is 26 × 63 × 78 × 14 = 1788696.\n",
    "\n",
    "What is the greatest product of four adjacent numbers in the same direction (up, down, left, right, or diagonally) in the 20×20 grid?"
   ]
  },
  {
   "cell_type": "code",
   "execution_count": 1,
   "metadata": {},
   "outputs": [],
   "source": [
    "A1=[8,2,22,97,38,15,0,40,0,75,4,5,7,78,52,12,50,77,91,8]\n",
    "A2=[49,49,99,40,17,81,18,57,60,87,17,40,98,43,69,48,4,56,62,0]\n",
    "A3=[81,49,31,73,55,79,14,29,93,71,40,67,53,88,30,3,49,13,36,65]\n",
    "A4=[52,70,95,23,4,60,11,42,69,24,68,56,1,32,56,71,37,2,36,91]\n",
    "A5=[22,31,16,71,51,67,63,89,41,92,36,54,22,40,40,28,66,33,13,80]\n",
    "A6=[24,47,32,60,99,3,45,2,44,75,33,53,78,36,84,20,35,17,12,50]\n",
    "A7=[32,98,81,28,64,23,67,10,26,38,40,67,59,54,70,66,18,38,64,70]\n",
    "A8=[67,26,20,68,2,62,12,20,95,63,94,39,63,8,40,91,66,49,94,21]\n",
    "A9=[24,55,58,5,66,73,99,26,97,17,78,78,96,83,14,88,34,89,63,72]\n",
    "A10=[21,36,23,9,75,0,76,44,20,45,35,14,0,61,33,97,34,31,33,95]\n",
    "A11=[78,17,53,28,22,75,31,67,15,94,3,80,4,62,16,14,9,53,56,92]\n",
    "A12=[16,39,5,42,96,35,31,47,55,58,88,24,0,17,54,24,36,29,85,57]\n",
    "A13=[86,56,0,48,35,71,89,7,5,44,44,37,44,60,21,58,51,54,17,58]\n",
    "A14=[19,80,81,68,5,94,47,69,28,73,92,13,86,52,17,77,4,89,55,40]\n",
    "A15=[4,52,8,83,97,35,99,16,7,97,57,32,16,26,26,79,33,27,98,66]\n",
    "A16=[88,36,68,87,57,62,20,72,3,46,33,67,46,55,12,32,63,93,53,69]\n",
    "A17=[4,42,16,73,38,25,39,11,24,94,72,18,8,46,29,32,40,62,76,36]\n",
    "A18=[20,69,36,41,72,30,23,88,34,62,99,69,82,67,59,85,74,4,36,16]\n",
    "A19=[20,73,35,29,78,31,90,1,74,31,49,71,48,86,81,16,23,57,5,54]\n",
    "A20=[1,70,54,71,83,51,54,69,16,92,33,48,61,43,52,1,89,19,67,48]"
   ]
  },
  {
   "cell_type": "code",
   "execution_count": 2,
   "metadata": {},
   "outputs": [
    {
     "name": "stdout",
     "output_type": "stream",
     "text": [
      "70600674\n"
     ]
    }
   ],
   "source": [
    "res_list=[]\n",
    "#check verticals\n",
    "for i in range(20-3):\n",
    "    for z in range(20):\n",
    "        mul=1\n",
    "        for t in range(4):\n",
    "            val=eval('A'+str(i+1+t))[z]\n",
    "            mul*=val\n",
    "        res_list.append(mul)\n",
    "        \n",
    "#check horizontal\n",
    "for i in range(20):\n",
    "    row=eval('A'+str(i+1))\n",
    "    for z in range(len(row)-3):\n",
    "        mul=1\n",
    "        for t in range(4):\n",
    "            val=row[z+t]\n",
    "            mul*=val\n",
    "        res_list.append(mul)       \n",
    "\n",
    "#check left-to-right diagonal\n",
    "for i in range(17):\n",
    "    for z in range(17):\n",
    "        mul=1\n",
    "        for t in range(4):\n",
    "            val=eval('A'+str(i+1+t))[z+t]\n",
    "            mul*=val\n",
    "        res_list.append(mul)       \n",
    "        \n",
    "#check right-to-left diagonal\n",
    "for i in range(3,20):\n",
    "    for z in range(17):\n",
    "        mul=1\n",
    "        for t in range(4):\n",
    "            val=eval('A'+str(z+1+t))[i-t]\n",
    "            mul*=val\n",
    "\n",
    "        res_list.append(mul)            \n",
    "    \n",
    "    \n",
    "\n",
    "print(max(res_list))\n",
    "\n"
   ]
  },
  {
   "cell_type": "code",
   "execution_count": null,
   "metadata": {},
   "outputs": [],
   "source": []
  },
  {
   "cell_type": "code",
   "execution_count": null,
   "metadata": {},
   "outputs": [],
   "source": []
  },
  {
   "cell_type": "code",
   "execution_count": null,
   "metadata": {},
   "outputs": [],
   "source": []
  },
  {
   "cell_type": "code",
   "execution_count": null,
   "metadata": {},
   "outputs": [],
   "source": []
  }
 ],
 "metadata": {
  "kernelspec": {
   "display_name": "Python 3",
   "language": "python",
   "name": "python3"
  },
  "language_info": {
   "codemirror_mode": {
    "name": "ipython",
    "version": 3
   },
   "file_extension": ".py",
   "mimetype": "text/x-python",
   "name": "python",
   "nbconvert_exporter": "python",
   "pygments_lexer": "ipython3",
   "version": "3.6.4"
  }
 },
 "nbformat": 4,
 "nbformat_minor": 2
}
