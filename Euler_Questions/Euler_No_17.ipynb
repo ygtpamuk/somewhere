{
 "cells": [
  {
   "cell_type": "markdown",
   "metadata": {},
   "source": [
    "If the numbers 1 to 5 are written out in words: one, two, three, four, five, then there are 3 + 3 + 5 + 4 + 4 = 19 letters used in total.\n",
    "\n",
    "If all the numbers from 1 to 1000 (one thousand) inclusive were written out in words, how many letters would be used?\n",
    "\n",
    "\n",
    "NOTE: Do not count spaces or hyphens. For example, 342 (three hundred and forty-two) contains 23 letters and 115 (one hundred and fifteen) contains 20 letters. The use of \"and\" when writing out numbers is in compliance with British usage."
   ]
  },
  {
   "cell_type": "code",
   "execution_count": 1,
   "metadata": {},
   "outputs": [],
   "source": [
    "def first_tier(x):\n",
    "    if x == 1 or x==2 or x==6 or x==10:\n",
    "        y=3\n",
    "    elif x==4 or x==5 or x==9:\n",
    "        y=4\n",
    "    elif x==3 or x==7 or x==8 or x==40 or x==50 or x==60:\n",
    "        y=5\n",
    "    elif x==11 or x==12 or x==20 or x==30 or x==80 or x==90:\n",
    "        y=6\n",
    "    elif x==15 or x==16 or x==70 or x==100:\n",
    "        y=7\n",
    "    elif x==13 or x==14 or x==18 or x==19:\n",
    "        y=8\n",
    "    elif x==17:\n",
    "        y=9\n",
    "    elif x==1000:\n",
    "        y=8+3\n",
    "    elif x==0:\n",
    "        y=0\n",
    "    return y\n",
    "\n",
    "\n"
   ]
  },
  {
   "cell_type": "code",
   "execution_count": 2,
   "metadata": {},
   "outputs": [],
   "source": [
    "def count_letters(a,b):\n",
    "    z=0\n",
    "    for x in range(a,b+1):\n",
    "        if x<20:\n",
    "            y= first_tier(x)\n",
    "        elif x<100:\n",
    "            y= first_tier(x%10)+first_tier(x-x%10)\n",
    "        elif x<1000:\n",
    "            if x%100==0:\n",
    "                y=first_tier(int((x-x%100)/100))+7\n",
    "            elif x%100<20:\n",
    "                y=first_tier(int((x-x%100)/100))+7+3+first_tier(x%100)\n",
    "            else:\n",
    "                y=first_tier(int((x-x%100)/100))+7+3+first_tier(int(x%10))+first_tier(int(x-x%10-100*int((x-x%100)/100)))\n",
    "        else:\n",
    "            y=first_tier(x)\n",
    "        z=z+y\n",
    "    return z\n",
    "\n",
    "    \n"
   ]
  },
  {
   "cell_type": "code",
   "execution_count": 3,
   "metadata": {},
   "outputs": [
    {
     "data": {
      "text/plain": [
       "21124"
      ]
     },
     "execution_count": 3,
     "metadata": {},
     "output_type": "execute_result"
    }
   ],
   "source": [
    "count_letters(1,1000)"
   ]
  },
  {
   "cell_type": "code",
   "execution_count": null,
   "metadata": {},
   "outputs": [],
   "source": []
  },
  {
   "cell_type": "code",
   "execution_count": null,
   "metadata": {},
   "outputs": [],
   "source": []
  },
  {
   "cell_type": "code",
   "execution_count": null,
   "metadata": {},
   "outputs": [],
   "source": []
  },
  {
   "cell_type": "code",
   "execution_count": null,
   "metadata": {},
   "outputs": [],
   "source": []
  },
  {
   "cell_type": "code",
   "execution_count": null,
   "metadata": {},
   "outputs": [],
   "source": []
  },
  {
   "cell_type": "code",
   "execution_count": null,
   "metadata": {},
   "outputs": [],
   "source": []
  },
  {
   "cell_type": "code",
   "execution_count": null,
   "metadata": {},
   "outputs": [],
   "source": []
  },
  {
   "cell_type": "code",
   "execution_count": null,
   "metadata": {},
   "outputs": [],
   "source": []
  },
  {
   "cell_type": "code",
   "execution_count": null,
   "metadata": {},
   "outputs": [],
   "source": []
  },
  {
   "cell_type": "code",
   "execution_count": null,
   "metadata": {},
   "outputs": [],
   "source": []
  },
  {
   "cell_type": "code",
   "execution_count": null,
   "metadata": {
    "collapsed": true
   },
   "outputs": [],
   "source": []
  }
 ],
 "metadata": {
  "kernelspec": {
   "display_name": "Python 3",
   "language": "python",
   "name": "python3"
  },
  "language_info": {
   "codemirror_mode": {
    "name": "ipython",
    "version": 3
   },
   "file_extension": ".py",
   "mimetype": "text/x-python",
   "name": "python",
   "nbconvert_exporter": "python",
   "pygments_lexer": "ipython3",
   "version": "3.6.3"
  }
 },
 "nbformat": 4,
 "nbformat_minor": 2
}
