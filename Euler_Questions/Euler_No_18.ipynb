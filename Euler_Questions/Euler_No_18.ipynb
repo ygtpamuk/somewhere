{
 "cells": [
  {
   "cell_type": "markdown",
   "metadata": {},
   "source": [
    "By starting at the top of the triangle below and moving to adjacent numbers on the row below, the maximum total from top to bottom is 23.\n",
    "\n",
    "\n",
    "<font color=blue>3<br>\n",
    "7</font> 4<br>\n",
    "2 <font color=blue>4</font> 6<br>\n",
    "8 5 <font color=blue>9</font> 3<br>\n",
    "\n",
    "\n",
    "That is, 3 + 7 + 4 + 9 = 23.\n",
    "\n",
    "Find the maximum total from top to bottom of the triangle below:\n",
    "\n",
    "75<br>\n",
    "95 64<br>\n",
    "17 47 82<br>\n",
    "18 35 87 10<br>\n",
    "20 04 82 47 65<br>\n",
    "19 01 23 75 03 34<br>\n",
    "88 02 77 73 07 63 67<br>\n",
    "99 65 04 28 06 16 70 92<br>\n",
    "41 41 26 56 83 40 80 70 33<br>\n",
    "41 48 72 33 47 32 37 16 94 29<br>\n",
    "53 71 44 65 25 43 91 52 97 51 14<br>\n",
    "70 11 33 28 77 73 17 78 39 68 17 57<br>\n",
    "91 71 52 38 17 14 91 43 58 50 27 29 48<br>\n",
    "63 66 04 68 89 53 67 30 73 16 69 87 40 31<br>\n",
    "04 62 98 27 23 09 70 98 73 93 38 53 60 04 23<br>\n",
    "\n",
    "NOTE: As there are only 16384 routes, it is possible to solve this problem by trying every route. However, Problem 67, is the same challenge with a triangle containing one-hundred rows; it cannot be solved by brute force, and requires a clever method! ;o)\n"
   ]
  },
  {
   "cell_type": "markdown",
   "metadata": {},
   "source": [
    "### Iterative Approach"
   ]
  },
  {
   "cell_type": "code",
   "execution_count": 1,
   "metadata": {},
   "outputs": [],
   "source": [
    "A1=[75]\n",
    "A2=[95,64]\n",
    "A3=[17,47,82]\n",
    "A4=[18,35,87,10]\n",
    "A5=[20,4,82,47,65]\n",
    "A6=[19,1,23,75,3,34]\n",
    "A7=[88,2,77,73,7,63,67]\n",
    "A8=[99,65,4,28,6,16,70,92]\n",
    "A9=[41,41,26,56,83,40,80,70,33]\n",
    "A10=[41,48,72,33,47,32,37,16,94,29]\n",
    "A11=[53,71,44,65,25,43,91,52,97,51,14]\n",
    "A12=[70,11,33,28,77,73,17,78,39,68,17,57]\n",
    "A13=[91,71,52,38,17,14,91,43,58,50,27,29,48]\n",
    "A14=[63,66,4,68,89,53,67,30,73,16,69,87,40,31]\n",
    "A15=[4,62,98,27,23,9,70,98,73,93,38,53,60,4,23]"
   ]
  },
  {
   "cell_type": "code",
   "execution_count": 2,
   "metadata": {
    "scrolled": true
   },
   "outputs": [
    {
     "name": "stdout",
     "output_type": "stream",
     "text": [
      "1074\n"
     ]
    }
   ],
   "source": [
    "res_list=[]\n",
    "for i in range(len(A1)):\n",
    "    for z0 in range(len(A2)):\n",
    "        if z0==i+1 or z0==i:\n",
    "            for z1 in range(len(A3)):\n",
    "                if z1==z0+1 or z1==z0:\n",
    "                    for z2 in range(len(A4)):\n",
    "                        if z2==z1+1 or z2==z1:\n",
    "                            for z3 in range(len(A5)):\n",
    "                                if z3==z2+1 or z3==z2:\n",
    "                                    for z4 in range(len(A6)):\n",
    "                                        if z4==z3+1 or z4==z3:\n",
    "                                            for z5 in range(len(A7)):\n",
    "                                                if z5==z4+1 or z5==z4:\n",
    "                                                    for z6 in range(len(A8)):\n",
    "                                                        if z6==z5+1 or z6==z5:\n",
    "                                                            for z7 in range(len(A9)):\n",
    "                                                                if z7==z6+1 or z7==z6:\n",
    "                                                                    for z8 in range(len(A10)):\n",
    "                                                                        if z8==z7+1 or z8==z7:\n",
    "                                                                            for z9 in range(len(A11)):\n",
    "                                                                                if z9==z8+1 or z9==z8:\n",
    "                                                                                    for z10 in range(len(A12)):\n",
    "                                                                                        if z10==z9+1 or z10==z9:\n",
    "                                                                                            for z11 in range(len(A13)):\n",
    "                                                                                                if z11==z10+1 or z11==z10:\n",
    "                                                                                                    for z12 in range(len(A14)):\n",
    "                                                                                                        if z12==z11+1 or z12==z11:\n",
    "                                                                                                            for z13 in range(len(A15)):\n",
    "                                                                                                                if z13==z12+1 or z13==z12:\n",
    "                                                                                                                    res_list.append(sum([A1[i],A2[z0],A3[z1],A4[z2],A5[z3],A6[z4],A7[z5],A8[z6],A9[z7],A10[z8],A11[z9],A12[z10],A13[z11],A14[z12],A15[z13]]))\n",
    "\n",
    "                                                                                                                    \n",
    "print(max(res_list))"
   ]
  },
  {
   "cell_type": "code",
   "execution_count": null,
   "metadata": {
    "scrolled": true
   },
   "outputs": [],
   "source": [
    "\n"
   ]
  },
  {
   "cell_type": "code",
   "execution_count": null,
   "metadata": {},
   "outputs": [],
   "source": [
    "        \n",
    "        \n",
    "    "
   ]
  },
  {
   "cell_type": "code",
   "execution_count": null,
   "metadata": {},
   "outputs": [],
   "source": []
  },
  {
   "cell_type": "code",
   "execution_count": null,
   "metadata": {
    "collapsed": true
   },
   "outputs": [],
   "source": []
  }
 ],
 "metadata": {
  "kernelspec": {
   "display_name": "Python 3",
   "language": "python",
   "name": "python3"
  },
  "language_info": {
   "codemirror_mode": {
    "name": "ipython",
    "version": 3
   },
   "file_extension": ".py",
   "mimetype": "text/x-python",
   "name": "python",
   "nbconvert_exporter": "python",
   "pygments_lexer": "ipython3",
   "version": "3.6.3"
  }
 },
 "nbformat": 4,
 "nbformat_minor": 2
}
