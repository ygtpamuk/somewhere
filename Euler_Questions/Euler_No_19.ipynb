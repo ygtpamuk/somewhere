{
 "cells": [
  {
   "cell_type": "markdown",
   "metadata": {},
   "source": [
    "You are given the following information, but you may prefer to do some research for yourself.\n",
    "\n",
    "1 Jan 1900 was a Monday.\n",
    "Thirty days has September,\n",
    "April, June and November.\n",
    "All the rest have thirty-one,\n",
    "Saving February alone,\n",
    "Which has twenty-eight, rain or shine.\n",
    "And on leap years, twenty-nine.\n",
    "A leap year occurs on any year evenly divisible by 4, but not on a century unless it is divisible by 400.\n",
    "How many Sundays fell on the first of the month during the twentieth century (1 Jan 1901 to 31 Dec 2000)?"
   ]
  },
  {
   "cell_type": "code",
   "execution_count": 1,
   "metadata": {
    "collapsed": true
   },
   "outputs": [],
   "source": [
    "days_dict={'1':31,'2.1':28,'2.2':29,'3':31,'4':30,'5':31,'6':30,'7':31,'8':31,'9':30,'10':31,'11':30,'12':31}"
   ]
  },
  {
   "cell_type": "code",
   "execution_count": 2,
   "metadata": {},
   "outputs": [],
   "source": [
    "def create_month(month,leap):\n",
    "    if leap==1 and month==2:\n",
    "        month=month+0.2\n",
    "    elif leap==0 and month==2:\n",
    "        month=month+0.1\n",
    "    else:\n",
    "        month=month\n",
    "    len_days=days_dict[str(month)]\n",
    "    array=[1 for x in range(len_days)]\n",
    "    return array\n",
    "\n",
    "def find_leap_year(year):\n",
    "    #centrury dviisable by 400 not on other centruies\n",
    "    # divisable by 4\n",
    "    leap=0\n",
    "    if year%100==0:\n",
    "        if year%400==0:\n",
    "            leap=1\n",
    "        else:\n",
    "            leap=0\n",
    "    elif year%4==0:\n",
    "        leap=1\n",
    "    return leap"
   ]
  },
  {
   "cell_type": "code",
   "execution_count": 3,
   "metadata": {
    "scrolled": true
   },
   "outputs": [
    {
     "data": {
      "text/plain": [
       "171"
      ]
     },
     "execution_count": 3,
     "metadata": {},
     "output_type": "execute_result"
    }
   ],
   "source": [
    "t=1899\n",
    "year_list=[]\n",
    "year_list_2=[]\n",
    "year_list.append([0,0])\n",
    "for i in range(1,12*110):\n",
    "    z=i%12\n",
    "    if z==0:\n",
    "        z=12\n",
    "    if year_list[-1][0]==12:\n",
    "        year=year+1\n",
    "    else:\n",
    "        year=year_list[-1][1]\n",
    "    item=[z,year]\n",
    "    year_list.append(item)\n",
    "    \n",
    "for x in year_list:\n",
    "    if x!=[0,0]:\n",
    "        leap=find_leap_year(int(x[1]+t))\n",
    "        year_list_2.append([x[0],x[1]+t,leap,create_month(x[0],leap)])\n",
    "year_list_3=[]\n",
    "day_int=0\n",
    "for x in year_list_2:\n",
    "    day_int_2=0\n",
    "    for i in range(len(x[3])):\n",
    "        if x[1]>1899:\n",
    "            day_int+=1\n",
    "            day_int_2+=1\n",
    "            day_day=day_int%7\n",
    "            month=x[0]\n",
    "            year=x[1]\n",
    "        #if day_day==0 and month==1:\n",
    "            item=[month,year,day_int,day_day,day_int_2]\n",
    "            year_list_3.append(item)\n",
    "\n",
    "Refined=[x for x in year_list_3 if x[1]>1900 and x[1]<2001]\n",
    "sum([1 for x in Refined if x[4]==1 and x[3]==0])"
   ]
  },
  {
   "cell_type": "code",
   "execution_count": null,
   "metadata": {},
   "outputs": [],
   "source": [
    "\n"
   ]
  },
  {
   "cell_type": "code",
   "execution_count": null,
   "metadata": {},
   "outputs": [],
   "source": []
  },
  {
   "cell_type": "code",
   "execution_count": null,
   "metadata": {},
   "outputs": [],
   "source": []
  },
  {
   "cell_type": "code",
   "execution_count": null,
   "metadata": {
    "collapsed": true
   },
   "outputs": [],
   "source": []
  }
 ],
 "metadata": {
  "kernelspec": {
   "display_name": "Python 3",
   "language": "python",
   "name": "python3"
  },
  "language_info": {
   "codemirror_mode": {
    "name": "ipython",
    "version": 3
   },
   "file_extension": ".py",
   "mimetype": "text/x-python",
   "name": "python",
   "nbconvert_exporter": "python",
   "pygments_lexer": "ipython3",
   "version": "3.6.3"
  }
 },
 "nbformat": 4,
 "nbformat_minor": 2
}
