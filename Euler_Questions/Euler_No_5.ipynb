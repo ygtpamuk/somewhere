{
 "cells": [
  {
   "cell_type": "code",
   "execution_count": 1,
   "metadata": {},
   "outputs": [
    {
     "name": "stdout",
     "output_type": "stream",
     "text": [
      "Result\n",
      "[2, 3, 2, 5, 7, 2, 3, 11, 13, 2, 17, 19]\n",
      "232792560\n",
      "Elapsed:0.5016326904296875 miliseconds\n"
     ]
    }
   ],
   "source": [
    "import time\n",
    "end=20\n",
    "\n",
    "start=time.time()\n",
    "def check_prime(check):\n",
    "    for i in range(2,check):\n",
    "        if check%i==0:\n",
    "            return 0\n",
    "    return 1\n",
    "\n",
    "primes=[x for x in range(2,end+1) if check_prime(x)==1]\n",
    "res_l=[]\n",
    "def find(z,primes):\n",
    "    for i in primes:\n",
    "        if z%i == 0:\n",
    "            res_l.append(i)\n",
    "            return find(z/i,primes)\n",
    "        else:\n",
    "            continue\n",
    "    return res_l\n",
    "\n",
    "final_list=[]\n",
    "for i in range(2,end+1):\n",
    "    if check_prime(i) ==1:\n",
    "        final_list.append(i)\n",
    "    else:\n",
    "        for z in primes:\n",
    "            res_l=[]\n",
    "            dif=find(i,primes).count(z)-final_list.count(z)\n",
    "\n",
    "            if dif > 0:\n",
    "                for k in range(dif):\n",
    "                    final_list.append(z)\n",
    "\n",
    "prod=1                    \n",
    "for i in final_list:\n",
    "    prod*=i\n",
    "end=time.time()\n",
    "print('Result')\n",
    "print(final_list)\n",
    "print(prod)\n",
    "print('Elapsed:'+str(1000*(end-start))+' miliseconds')\n"
   ]
  },
  {
   "cell_type": "code",
   "execution_count": null,
   "metadata": {
    "scrolled": false
   },
   "outputs": [],
   "source": []
  },
  {
   "cell_type": "code",
   "execution_count": null,
   "metadata": {},
   "outputs": [],
   "source": []
  },
  {
   "cell_type": "code",
   "execution_count": null,
   "metadata": {},
   "outputs": [],
   "source": []
  },
  {
   "cell_type": "code",
   "execution_count": null,
   "metadata": {},
   "outputs": [],
   "source": []
  },
  {
   "cell_type": "code",
   "execution_count": null,
   "metadata": {},
   "outputs": [],
   "source": [
    "\n",
    "    "
   ]
  },
  {
   "cell_type": "code",
   "execution_count": null,
   "metadata": {},
   "outputs": [],
   "source": []
  },
  {
   "cell_type": "code",
   "execution_count": null,
   "metadata": {},
   "outputs": [],
   "source": []
  },
  {
   "cell_type": "code",
   "execution_count": null,
   "metadata": {},
   "outputs": [],
   "source": []
  }
 ],
 "metadata": {
  "kernelspec": {
   "display_name": "Python 3",
   "language": "python",
   "name": "python3"
  },
  "language_info": {
   "codemirror_mode": {
    "name": "ipython",
    "version": 3
   },
   "file_extension": ".py",
   "mimetype": "text/x-python",
   "name": "python",
   "nbconvert_exporter": "python",
   "pygments_lexer": "ipython3",
   "version": "3.6.4"
  }
 },
 "nbformat": 4,
 "nbformat_minor": 2
}
