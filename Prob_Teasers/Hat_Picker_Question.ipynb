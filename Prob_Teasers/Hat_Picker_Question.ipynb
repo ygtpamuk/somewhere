{
 "cells": [
  {
   "cell_type": "markdown",
   "metadata": {},
   "source": [
    "# Hat Picker Question"
   ]
  },
  {
   "cell_type": "markdown",
   "metadata": {},
   "source": [
    "#### Draw a number 1-100 out of a hat (and replace the number after you draw. You can play as many rounds as you want, and the last number you draw is the number of dollars you win, but each round costs an extra $1. What is a fair value to charge for entering this game?"
   ]
  },
  {
   "cell_type": "markdown",
   "metadata": {},
   "source": [
    " The problem with that question is a loser who picked lower than the EV can play this game infinitely since the EV of this step\n",
    "is higher than the next step even the loser is on a deep loss. So he may chase his losses. Luckily the effect coming from this \n",
    "is getting smaller for each step he plays and disappears after some hundered iterations.\n",
    "\n",
    "\n"
   ]
  },
  {
   "cell_type": "markdown",
   "metadata": {},
   "source": [
    "Luckily we don't have to calculate different tree branch for each scenerio, since the number is replaced it is same for each node in each step. It only changes stepwise."
   ]
  },
  {
   "cell_type": "markdown",
   "metadata": {},
   "source": [
    "However the question doesn't give us whether loser stops playing after EV goes negative or chase the losses so I calculated the answer for 2 scenerios."
   ]
  },
  {
   "cell_type": "markdown",
   "metadata": {},
   "source": [
    "### Scenerio A-)  Chase the Losses, Play Infinately"
   ]
  },
  {
   "cell_type": "code",
   "execution_count": 1,
   "metadata": {},
   "outputs": [
    {
     "name": "stdout",
     "output_type": "stream",
     "text": [
      "Fair Value\n",
      "86.35714285714307\n"
     ]
    }
   ],
   "source": [
    "node=100\n",
    "\n",
    "p_list=[]\n",
    "\n",
    "# crate tree for 10000 steps.\n",
    "for l in range(10000):\n",
    "    p_item=[]\n",
    "    for i in range(node):\n",
    "        pick=i+1-l\n",
    "        payoff=pick-1\n",
    "        p_item.append(payoff)\n",
    "    p_list.append(p_item)\n",
    "    \n",
    "#starting from last step, evaluate if the EV is larger than the current situation, if yes replace the value in previous step \n",
    "# the EV\n",
    "for i in range(len(p_list)-1):\n",
    "    final_item=1/node*sum(p_list[-1])\n",
    "    p_list=p_list[:-1]\n",
    "    for i in range(len(p_list[-1])):\n",
    "        if p_list[-1][i]<final_item:\n",
    "            p_list[-1][i]=final_item\n",
    "print('Fair Value')\n",
    "print(sum(p_list[0])/node)"
   ]
  },
  {
   "cell_type": "markdown",
   "metadata": {},
   "source": [
    "### Scenerio B-)  Stop when EV is less than 0"
   ]
  },
  {
   "cell_type": "code",
   "execution_count": 2,
   "metadata": {},
   "outputs": [
    {
     "name": "stdout",
     "output_type": "stream",
     "text": [
      "Fair Value\n",
      "86.34876962822527\n"
     ]
    }
   ],
   "source": [
    "node=100\n",
    "\n",
    "p_list=[]\n",
    "\n",
    "# crate tree for 10000 steps.\n",
    "for l in range(10000):\n",
    "    p_item=[]\n",
    "    for i in range(node):\n",
    "        pick=i+1-l\n",
    "        payoff=pick-1\n",
    "        p_item.append(payoff)\n",
    "    if sum(p_item)>=0:\n",
    "        p_list.append(p_item)\n",
    "    \n",
    "#starting from last step, evaluate if the EV is larger than the current situation, if yes replace the value in previous step \n",
    "# the EV\n",
    "for i in range(len(p_list)-1):\n",
    "    final_item=1/node*sum(p_list[-1])\n",
    "    p_list=p_list[:-1]\n",
    "    for i in range(len(p_list[-1])):\n",
    "        if p_list[-1][i]<final_item:\n",
    "            p_list[-1][i]=final_item\n",
    "print('Fair Value')\n",
    "print(sum(p_list[0])/node)"
   ]
  },
  {
   "cell_type": "markdown",
   "metadata": {},
   "source": [
    "As you can see difference between scenerios are not significant since effect from chasing the losses converges to 0 in the long term."
   ]
  },
  {
   "cell_type": "code",
   "execution_count": null,
   "metadata": {},
   "outputs": [],
   "source": []
  },
  {
   "cell_type": "code",
   "execution_count": null,
   "metadata": {},
   "outputs": [],
   "source": []
  },
  {
   "cell_type": "code",
   "execution_count": null,
   "metadata": {},
   "outputs": [],
   "source": []
  },
  {
   "cell_type": "code",
   "execution_count": null,
   "metadata": {},
   "outputs": [],
   "source": []
  }
 ],
 "metadata": {
  "kernelspec": {
   "display_name": "Python 3",
   "language": "python",
   "name": "python3"
  },
  "language_info": {
   "codemirror_mode": {
    "name": "ipython",
    "version": 3
   },
   "file_extension": ".py",
   "mimetype": "text/x-python",
   "name": "python",
   "nbconvert_exporter": "python",
   "pygments_lexer": "ipython3",
   "version": "3.6.4"
  }
 },
 "nbformat": 4,
 "nbformat_minor": 2
}
